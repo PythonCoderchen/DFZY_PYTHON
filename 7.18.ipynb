{
 "cells": [
  {
   "cell_type": "markdown",
   "metadata": {},
   "source": [
    "# 选择\n",
    "## 布尔类型、数值和表达式\n",
    "![](../Photo/33.png)\n",
    "- 注意：比较运算符的相等是两个等到，一个等到代表赋值\n",
    "- 在Python中可以用整型0来代表False，其他数字来代表True\n",
    "- 后面还会讲到 is 在判断语句中的用发"
   ]
  },
  {
   "cell_type": "code",
   "execution_count": 86,
   "metadata": {},
   "outputs": [
    {
     "ename": "ModuleNotFoundError",
     "evalue": "No module named 'Config'",
     "output_type": "error",
     "traceback": [
      "\u001b[1;31m---------------------------------------------------------------------------\u001b[0m",
      "\u001b[1;31mModuleNotFoundError\u001b[0m                       Traceback (most recent call last)",
      "\u001b[1;32m<ipython-input-86-bb1907d03d87>\u001b[0m in \u001b[0;36m<module>\u001b[1;34m()\u001b[0m\n\u001b[0;32m      1\u001b[0m \u001b[1;32mfrom\u001b[0m \u001b[0memail\u001b[0m\u001b[1;33m.\u001b[0m\u001b[0mmime\u001b[0m\u001b[1;33m.\u001b[0m\u001b[0mtext\u001b[0m \u001b[1;32mimport\u001b[0m \u001b[0mMIMEText\u001b[0m  \u001b[1;31m# 邮件文本转换\u001b[0m\u001b[1;33m\u001b[0m\u001b[0m\n\u001b[0;32m      2\u001b[0m \u001b[1;32mimport\u001b[0m \u001b[0msmtplib\u001b[0m  \u001b[1;31m# 发送邮件\u001b[0m\u001b[1;33m\u001b[0m\u001b[0m\n\u001b[1;32m----> 3\u001b[1;33m \u001b[1;32mfrom\u001b[0m \u001b[0mConfig\u001b[0m \u001b[1;32mimport\u001b[0m \u001b[1;33m*\u001b[0m\u001b[1;33m\u001b[0m\u001b[0m\n\u001b[0m\u001b[0;32m      4\u001b[0m \u001b[1;33m\u001b[0m\u001b[0m\n\u001b[0;32m      5\u001b[0m \u001b[1;33m\u001b[0m\u001b[0m\n",
      "\u001b[1;31mModuleNotFoundError\u001b[0m: No module named 'Config'"
     ]
    }
   ],
   "source": [
    "from email.mime.text import MIMEText  # 邮件文本转换\n",
    "import smtplib  # 发送邮件\n",
    "from Config import *\n",
    "\n",
    "\n",
    "def Send_Email(accept_email, SMTP_server, Sender, password):\n",
    "    print('邮箱开始发送...')\n",
    "    # 三个参数：第一个为文本内容，第二个设置发送文本格式plain，第三个被文件utf-8 设置编码\n",
    "    msg = MIMEText('票已经抢到，尽快付款')  # 转为邮件文本,\n",
    "    msg[\"Subject\"] = \"高手高手高高手\"  # 标题\n",
    "    msg[\"From\"] = Sender  # 发送者\n",
    "\n",
    "    mail_sever = smtplib.SMTP(SMTP_server, 25)  # 链接邮箱端，端口号25\n",
    "\n",
    "    mail_sever.login(Sender, password)  # 登录邮箱\n",
    "    # 要发送的邮箱号\n",
    "    email_list = [accept_email]\n",
    "    for EMAIL in email_list:\n",
    "        mail_sever.sendmail(Sender, EMAIL, msg.as_string())\n",
    "\n",
    "    # 关闭邮箱\n",
    "    mail_sever.quit()\n",
    "    print(\"邮箱发送成功 \")"
   ]
  },
  {
   "cell_type": "code",
   "execution_count": 1,
   "metadata": {},
   "outputs": [
    {
     "name": "stdout",
     "output_type": "stream",
     "text": [
      "输入密码:123\n",
      "取款成功,余额: 80646\n",
      "输入密码:123\n",
      "取款成功,余额: 63977\n",
      "输入密码:123\n",
      "取款成功,余额: 48195\n",
      "输入密码:123\n",
      "取款成功,余额: 32396\n",
      "输入密码:123\n",
      "取款成功,余额: 18590\n",
      "输入密码:123\n",
      "取款成功,余额: 1671\n",
      "没钱了\n"
     ]
    }
   ],
   "source": [
    "import random\n",
    "s = 100000\n",
    "while 1:\n",
    "    a = random.randint(5000,19999)\n",
    "    password='123'\n",
    "    if s>=a:\n",
    "        passwd = input('输入密码:')\n",
    "        if passwd==password:\n",
    "            s = s-a\n",
    "            print('取款成功,余额:',s)\n",
    "    if s<a:\n",
    "        print('没钱了')\n",
    "        break\n",
    "    "
   ]
  },
  {
   "cell_type": "markdown",
   "metadata": {},
   "source": [
    "## 字符串的比较使用ASCII值"
   ]
  },
  {
   "cell_type": "markdown",
   "metadata": {},
   "source": [
    "## Markdown \n",
    "- https://github.com/younghz/Markdown"
   ]
  },
  {
   "cell_type": "markdown",
   "metadata": {},
   "source": [
    "## EP:\n",
    "- <img src=\"../Photo/34.png\"></img>\n",
    "- 输入一个数字，判断其实奇数还是偶数"
   ]
  },
  {
   "cell_type": "code",
   "execution_count": 4,
   "metadata": {},
   "outputs": [
    {
     "data": {
      "text/plain": [
       "False"
      ]
     },
     "execution_count": 4,
     "metadata": {},
     "output_type": "execute_result"
    }
   ],
   "source": [
    "bool(0)"
   ]
  },
  {
   "cell_type": "markdown",
   "metadata": {},
   "source": [
    "## 产生随机数字\n",
    "- 函数random.randint(a,b) 可以用来产生一个a和b之间且包括a和b的随机整数"
   ]
  },
  {
   "cell_type": "markdown",
   "metadata": {},
   "source": [
    "##  其他random方法\n",
    "- random.random 返回0.0到1.0之间前闭后开区间的随机浮点\n",
    "- random.randrange(a,b) 前闭后开"
   ]
  },
  {
   "cell_type": "markdown",
   "metadata": {},
   "source": [
    "## EP：\n",
    "- 产生两个随机整数number1和number2，然后显示给用户，使用户输入数字的和，并判定其是否正确\n",
    "- 进阶:写一个随机序号点名程序"
   ]
  },
  {
   "cell_type": "code",
   "execution_count": 46,
   "metadata": {},
   "outputs": [
    {
     "name": "stdout",
     "output_type": "stream",
     "text": [
      "2 1\n"
     ]
    }
   ],
   "source": [
    "import random\n",
    "x = random.randint(0,10)\n",
    "y = random.randint(0,5)\n",
    "print(x,y)"
   ]
  },
  {
   "cell_type": "markdown",
   "metadata": {},
   "source": [
    "## if语句\n",
    "- 如果条件正确就执行一个单向if语句，亦即当条件为真的时候才执行if内部的语句\n",
    "- Python有很多选择语句:\n",
    "> - 单向if \n",
    "  - 双向if-else\n",
    "  - 嵌套if\n",
    "  - 多向if-elif-else\n",
    "  \n",
    "- 注意：当语句含有子语句的时候，那么一定至少要有一个缩进，也就是说如果有儿子存在，那么一定要缩进\n",
    "- 切记不可tab键和space混用，单用tab 或者 space\n",
    "- 当你输出的结果是无论if是否为真时都需要显示时，语句应该与if对齐"
   ]
  },
  {
   "cell_type": "code",
   "execution_count": 85,
   "metadata": {},
   "outputs": [
    {
     "name": "stdout",
     "output_type": "stream",
     "text": [
      "A\n"
     ]
    }
   ],
   "source": [
    "score = 89\n",
    "if score>=80:\n",
    "    print('A')\n",
    "elif score>=60:\n",
    "    print('B')\n",
    "else:\n",
    "    print('C')"
   ]
  },
  {
   "cell_type": "markdown",
   "metadata": {},
   "source": [
    "## EP：\n",
    "- 用户输入一个数字，判断其实奇数还是偶数\n",
    "- 进阶：可以查看下4.5实例研究猜生日"
   ]
  },
  {
   "cell_type": "markdown",
   "metadata": {},
   "source": [
    "## 双向if-else 语句\n",
    "- 如果条件为真，那么走if内部语句，否则走else内部语句"
   ]
  },
  {
   "cell_type": "markdown",
   "metadata": {},
   "source": [
    "## EP：\n",
    "- 产生两个随机整数number1和number2，然后显示给用户，使用户输入数字，并判定其是否正确,如果正确打印“you‘re correct”，否则打印正确错误"
   ]
  },
  {
   "cell_type": "code",
   "execution_count": null,
   "metadata": {
    "collapsed": true
   },
   "outputs": [],
   "source": [
    "\n",
    "\n",
    "\n",
    "\n",
    "\n"
   ]
  },
  {
   "cell_type": "markdown",
   "metadata": {},
   "source": [
    "## 嵌套if 和多向if-elif-else\n",
    "![](../Photo/35.png)"
   ]
  },
  {
   "cell_type": "markdown",
   "metadata": {},
   "source": [
    "## EP：\n",
    "- 提示用户输入一个年份，然后显示表示这一年的动物\n",
    "![](../Photo/36.png)\n",
    "- 计算身体质量指数的程序\n",
    "- BMI = 以千克为单位的体重除以以米为单位的身高\n",
    "![](../Photo/37.png)"
   ]
  },
  {
   "cell_type": "code",
   "execution_count": 97,
   "metadata": {},
   "outputs": [
    {
     "name": "stdout",
     "output_type": "stream",
     "text": [
      "height:54\n",
      "high:1.58\n",
      "21.63114885435026\n",
      "biaozhun\n"
     ]
    }
   ],
   "source": [
    "height = eval(input('height:'))\n",
    "high = eval(input('high:'))\n",
    "BMI=height/(high*high)\n",
    "print(BMI)\n",
    "if BMI<18.5:\n",
    "    print('轻')\n",
    "elif 18.5<=BMI<25.0:\n",
    "    print('biaozhun')\n",
    "elif 25.0<=BMI<30.0:\n",
    "    print('chaozhong')\n",
    "else:\n",
    "    print('chifei')"
   ]
  },
  {
   "cell_type": "code",
   "execution_count": 92,
   "metadata": {},
   "outputs": [
    {
     "name": "stdout",
     "output_type": "stream",
     "text": [
      ">>21\n"
     ]
    },
    {
     "data": {
      "text/plain": [
       "'蛇'"
      ]
     },
     "execution_count": 92,
     "metadata": {},
     "output_type": "execute_result"
    }
   ],
   "source": [
    "y = {\n",
    "    0:'猴',\n",
    "    1:'鸡',\n",
    "    2:'狗',\n",
    "    3:'猪',\n",
    "    4:'鼠',\n",
    "    5:'牛',\n",
    "    6:'虎',\n",
    "    7:'兔',\n",
    "    8:'龙',\n",
    "    9:'蛇',\n",
    "    10:'马',\n",
    "    11:'羊'\n",
    "}\n",
    "ye=eval(input('>>'))\n",
    "y[ye%12]"
   ]
  },
  {
   "cell_type": "markdown",
   "metadata": {},
   "source": [
    "## 逻辑运算符\n",
    "![](../Photo/38.png)"
   ]
  },
  {
   "cell_type": "markdown",
   "metadata": {},
   "source": [
    "![](../Photo/39.png)\n",
    "![](../Photo/40.png)"
   ]
  },
  {
   "cell_type": "markdown",
   "metadata": {},
   "source": [
    "## EP：\n",
    "- 判定闰年：一个年份如果能被4整除但不能被100整除，或者能被400整除，那么这个年份就是闰年\n",
    "- 提示用户输入一个年份，并返回是否是闰年\n",
    "- 提示用户输入一个数字，判断其是否为水仙花数"
   ]
  },
  {
   "cell_type": "code",
   "execution_count": 101,
   "metadata": {},
   "outputs": [
    {
     "name": "stdout",
     "output_type": "stream",
     "text": [
      "yes\n"
     ]
    }
   ],
   "source": [
    "year = 2008\n",
    "if ((year%4==0) and (year%100!=0)) or (year%400==0):\n",
    "    print('yes')\n",
    "else :\n",
    "    print('not')"
   ]
  },
  {
   "cell_type": "code",
   "execution_count": 103,
   "metadata": {},
   "outputs": [
    {
     "data": {
      "text/plain": [
       "9"
      ]
     },
     "execution_count": 103,
     "metadata": {},
     "output_type": "execute_result"
    }
   ],
   "source": [
    "199%10"
   ]
  },
  {
   "cell_type": "code",
   "execution_count": 112,
   "metadata": {},
   "outputs": [
    {
     "name": "stdout",
     "output_type": "stream",
     "text": [
      ">>153\n",
      "yes\n"
     ]
    }
   ],
   "source": [
    "a = eval(input('>>'))\n",
    "e = a\n",
    "b = a%10\n",
    "a = a//10\n",
    "c = a%10\n",
    "a = a//10\n",
    "d = a\n",
    "if((d**3+b**3+c**3)==e):\n",
    "    print('yes')\n",
    "else:\n",
    "    print('no')"
   ]
  },
  {
   "cell_type": "markdown",
   "metadata": {},
   "source": [
    "## 实例研究：彩票\n",
    "![](../Photo/41.png)"
   ]
  },
  {
   "cell_type": "markdown",
   "metadata": {},
   "source": [
    "# Homework\n",
    "- 1\n",
    "![](../Photo/42.png)"
   ]
  },
  {
   "cell_type": "code",
   "execution_count": 116,
   "metadata": {},
   "outputs": [
    {
     "name": "stdout",
     "output_type": "stream",
     "text": [
      "Enter a,b,c:1,2,3\n",
      "The equation has no real roots\n"
     ]
    }
   ],
   "source": [
    "import math\n",
    "a,b,c = eval(input('Enter a,b,c:'))\n",
    "s = b**2 - 4*a*c\n",
    "if s>0:\n",
    "    r1 = (-b+math.sqrt(s))/2*a\n",
    "    r2 = (-b-math.sqrt(s))/2*a\n",
    "    print('The roots are',r1,'and',r2)\n",
    "elif s==0:\n",
    "    r1 = (-b+math.sqrt(s))/2*a\n",
    "    print('The root is',r1)\n",
    "else:\n",
    "    print('The equation has no real roots')"
   ]
  },
  {
   "cell_type": "markdown",
   "metadata": {},
   "source": [
    "- 2\n",
    "![](../Photo/43.png)"
   ]
  },
  {
   "cell_type": "code",
   "execution_count": 119,
   "metadata": {},
   "outputs": [
    {
     "name": "stdout",
     "output_type": "stream",
     "text": [
      ">>12\n",
      "no\n"
     ]
    }
   ],
   "source": [
    "import random\n",
    "a = random.randint(0,100)\n",
    "b = random.randint(0,100)\n",
    "s = a+b\n",
    "i = eval(input('>>'))\n",
    "if i==s:\n",
    "    print('yes')\n",
    "else:\n",
    "    print('no')"
   ]
  },
  {
   "cell_type": "markdown",
   "metadata": {},
   "source": [
    "- 3\n",
    "![](../Photo/44.png)"
   ]
  },
  {
   "cell_type": "code",
   "execution_count": 124,
   "metadata": {},
   "outputs": [
    {
     "name": "stdout",
     "output_type": "stream",
     "text": [
      "Enter today's day:0\n",
      "Enter the number of days elapsed since today:31\n",
      "Today is 周日  and the future day is 周三\n"
     ]
    }
   ],
   "source": [
    "td = eval(input(\"Enter today's day:\"))\n",
    "ed = eval(input(\"Enter the number of days elapsed since today:\"))\n",
    "d = ed%7\n",
    "x = td+d\n",
    "days = {\n",
    "    0:'周日',\n",
    "    1:'周一',\n",
    "    2:'周二',\n",
    "     3:'周三',\n",
    "    4:'周四',\n",
    "    5:'周五',\n",
    "    6:'周六'\n",
    "}\n",
    "print('Today is',days[td],' and the future day is',days[x%7])"
   ]
  },
  {
   "cell_type": "markdown",
   "metadata": {},
   "source": [
    "- 4\n",
    "![](../Photo/45.png)"
   ]
  },
  {
   "cell_type": "code",
   "execution_count": 128,
   "metadata": {},
   "outputs": [
    {
     "name": "stdout",
     "output_type": "stream",
     "text": [
      ">>3,2,1\n",
      "[3, 2, 1]\n",
      "[1, 2, 3]\n"
     ]
    }
   ],
   "source": [
    "a,b,c = eval(input('>>'))\n",
    "d = [a,b,c]\n",
    "print(d)\n",
    "d.sort()\n",
    "print(d)"
   ]
  },
  {
   "cell_type": "markdown",
   "metadata": {},
   "source": [
    "- 5\n",
    "![](../Photo/46.png)"
   ]
  },
  {
   "cell_type": "code",
   "execution_count": 129,
   "metadata": {},
   "outputs": [
    {
     "name": "stdout",
     "output_type": "stream",
     "text": [
      "Enter weight and price for package1:50,24.59\n",
      "Enter weight and price for package2:25,11.99\n",
      "Package 2 has the better price\n"
     ]
    }
   ],
   "source": [
    "w1,p1 = eval(input('Enter weight and price for package1:'))\n",
    "w2,p2 = eval(input('Enter weight and price for package2:'))\n",
    "pa1 = w1/p1\n",
    "pa2 = w2/p2\n",
    "if pa1>pa2:\n",
    "    print('Package 1 has the better price')\n",
    "else:\n",
    "    print('Package 2 has the better price')"
   ]
  },
  {
   "cell_type": "markdown",
   "metadata": {},
   "source": [
    "- 6\n",
    "![](../Photo/47.png)"
   ]
  },
  {
   "cell_type": "code",
   "execution_count": 131,
   "metadata": {},
   "outputs": [
    {
     "name": "stdout",
     "output_type": "stream",
     "text": [
      "y,m:2005,3\n",
      "31\n"
     ]
    }
   ],
   "source": [
    "run = {\n",
    "    1:'31',2:'29',3:'31',4:'30',5:'31',6:'30',7:'31',8:'31',9:'30',10:'31',11:'30',12:'31'\n",
    "}\n",
    "ping = {\n",
    "    1:'31',2:'28',3:'31',4:'30',5:'31',6:'30',7:'31',8:'31',9:'30',10:'31',11:'30',12:'31'\n",
    "}\n",
    "y,m = eval(input(\"y,m:\"))\n",
    "if ((y%4==0) and (y%100!=0)) or (y%400==0):\n",
    "    print(run[m])\n",
    "else :\n",
    "    print(ping[m])"
   ]
  },
  {
   "cell_type": "markdown",
   "metadata": {},
   "source": [
    "- 7\n",
    "![](../Photo/48.png)"
   ]
  },
  {
   "cell_type": "code",
   "execution_count": 188,
   "metadata": {},
   "outputs": [
    {
     "name": "stdout",
     "output_type": "stream",
     "text": [
      ">>正\n",
      "yes\n"
     ]
    }
   ],
   "source": [
    "import random\n",
    "a = ['正','反']\n",
    "s = random.sample(a,1)\n",
    "ss = input('>>')\n",
    "if s[0]==ss:\n",
    "    print('yes')\n",
    "else :\n",
    "    print('no')"
   ]
  },
  {
   "cell_type": "markdown",
   "metadata": {},
   "source": [
    "- 8\n",
    "![](../Photo/49.png)"
   ]
  },
  {
   "cell_type": "code",
   "execution_count": 193,
   "metadata": {},
   "outputs": [
    {
     "name": "stdout",
     "output_type": "stream",
     "text": [
      "1\n",
      ">>0\n",
      "输\n"
     ]
    }
   ],
   "source": [
    "import random\n",
    "li = [0,1,2]\n",
    "cowin = [[0,2],[1,0],[2,1]]\n",
    "com = random.choice(li)\n",
    "print(com)\n",
    "pe = eval(input('>>'))\n",
    "if pe==com:\n",
    "    print('平局')\n",
    "elif [com,pe] in cowin:\n",
    "    print('输')\n",
    "else :\n",
    "    print('赢')"
   ]
  },
  {
   "cell_type": "markdown",
   "metadata": {},
   "source": [
    "- 9\n",
    "![](../Photo/50.png)"
   ]
  },
  {
   "cell_type": "code",
   "execution_count": 202,
   "metadata": {},
   "outputs": [
    {
     "name": "stdout",
     "output_type": "stream",
     "text": [
      "Enter year:(e.g.,2008):2012\n",
      "Enter month:1-12:5\n",
      "Enter the day of the month:1-31:12\n",
      "周六\n"
     ]
    }
   ],
   "source": [
    "days = {\n",
    "    1:'周日',2:'周一',3:'周二',4:'周三',5:'周四',6:'周五',0:'周六'\n",
    "}\n",
    "import math\n",
    "year = eval(input('Enter year:(e.g.,2008):'))\n",
    "month = eval(input('Enter month:1-12:'))\n",
    "dayofmo = eval(input('Enter the day of the month:1-31:'))\n",
    "q = dayofmo\n",
    "if month == 1:\n",
    "    m=13\n",
    "    k = year%100-1\n",
    "elif month == 2:\n",
    "    m = 14\n",
    "    k = year%100-1\n",
    "else:\n",
    "    m = month\n",
    "    k = year%100\n",
    "j = math.floor(year/100)\n",
    "h = (q+math.floor(26*(m+1)/10)+k+math.floor(k/4)+math.floor(j/4)+5*j)%7\n",
    "print(days[h])"
   ]
  },
  {
   "cell_type": "markdown",
   "metadata": {},
   "source": [
    "- 10\n",
    "![](../Photo/51.png)"
   ]
  },
  {
   "cell_type": "code",
   "execution_count": 215,
   "metadata": {},
   "outputs": [
    {
     "name": "stdout",
     "output_type": "stream",
     "text": [
      "黑桃 Jack\n"
     ]
    }
   ],
   "source": [
    "import random\n",
    "nums = ['Ace',2,3,4,5,6,7,8,9,10,'Jack','Queen','King']\n",
    "huas = ['梅花','红桃','方块','黑桃']\n",
    "num = random.choice(nums)\n",
    "hua = random.choice(huas)\n",
    "print(hua,num)"
   ]
  },
  {
   "cell_type": "markdown",
   "metadata": {},
   "source": [
    "- 11\n",
    "![](../Photo/52.png)"
   ]
  },
  {
   "cell_type": "code",
   "execution_count": 219,
   "metadata": {},
   "outputs": [
    {
     "name": "stdout",
     "output_type": "stream",
     "text": [
      ">>123\n",
      "no\n"
     ]
    }
   ],
   "source": [
    "num = eval(input('>>'))\n",
    "a = int(str(num)[0])\n",
    "c = int(str(num)[2])\n",
    "if a==c:\n",
    "    print('yes')\n",
    "else:\n",
    "    print('no')"
   ]
  },
  {
   "cell_type": "markdown",
   "metadata": {},
   "source": [
    "- 12\n",
    "![](../Photo/53.png)"
   ]
  },
  {
   "cell_type": "code",
   "execution_count": 221,
   "metadata": {},
   "outputs": [
    {
     "name": "stdout",
     "output_type": "stream",
     "text": [
      "Enter three edges:100,60,1\n",
      "error\n"
     ]
    }
   ],
   "source": [
    "a,b,c = eval(input('Enter three edges:'))\n",
    "if (a+b>c and a+c>b and b+c>a):\n",
    "    print(a+b+c)\n",
    "else:\n",
    "    print('error')"
   ]
  }
 ],
 "metadata": {
  "kernelspec": {
   "display_name": "Python 3",
   "language": "python",
   "name": "python3"
  },
  "language_info": {
   "codemirror_mode": {
    "name": "ipython",
    "version": 3
   },
   "file_extension": ".py",
   "mimetype": "text/x-python",
   "name": "python",
   "nbconvert_exporter": "python",
   "pygments_lexer": "ipython3",
   "version": "3.6.1"
  }
 },
 "nbformat": 4,
 "nbformat_minor": 2
}
