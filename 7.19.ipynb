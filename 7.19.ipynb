{
 "cells": [
  {
   "cell_type": "markdown",
   "metadata": {},
   "source": [
    "# 循环\n",
    "- 循环是一种控制语句块重复执行的结构\n",
    "- while  适用于广度遍历\n",
    "- for    开发中经常使用"
   ]
  },
  {
   "cell_type": "markdown",
   "metadata": {},
   "source": [
    "## while 循环\n",
    "- 当一个条件保持真的时候while循环重复执行语句\n",
    "- while 循环一定要有结束条件，否则很容易进入死循环\n",
    "- while 循环的语法是：\n",
    "\n",
    "    while loop-contunuation-conndition:\n",
    "\n",
    "        Statement"
   ]
  },
  {
   "cell_type": "code",
   "execution_count": 1,
   "metadata": {},
   "outputs": [
    {
     "name": "stdout",
     "output_type": "stream",
     "text": [
      "a\n",
      "b\n",
      "c\n",
      "d\n"
     ]
    }
   ],
   "source": [
    "s = 'abcd'\n",
    "i=0\n",
    "while i<len(s):\n",
    "    print(s[i])\n",
    "    i+=1"
   ]
  },
  {
   "cell_type": "markdown",
   "metadata": {},
   "source": [
    "## 示例：\n",
    "sum = 0\n",
    "\n",
    "i = 1\n",
    "\n",
    "while i <10:\n",
    "\n",
    "    sum = sum + i\n",
    "    i = i + 1"
   ]
  },
  {
   "cell_type": "markdown",
   "metadata": {},
   "source": [
    "## 错误示例：\n",
    "sum = 0\n",
    "\n",
    "i = 1\n",
    "\n",
    "while i <10:\n",
    "\n",
    "    sum = sum + i\n",
    "\n",
    "i = i + 1\n",
    "- 一旦进入死循环可按 Ctrl + c 停止"
   ]
  },
  {
   "cell_type": "markdown",
   "metadata": {},
   "source": [
    "## EP：\n",
    "![](../Photo/143.png)\n",
    "![](../Photo/144.png)"
   ]
  },
  {
   "cell_type": "code",
   "execution_count": 2,
   "metadata": {},
   "outputs": [
    {
     "name": "stdout",
     "output_type": "stream",
     "text": [
      "Enter an integer:2\n",
      "enter:3\n",
      "enter:4\n",
      "enter:5\n",
      "enter:0\n",
      "5\n",
      "0\n"
     ]
    }
   ],
   "source": [
    "number = eval(input('Enter an integer:'))\n",
    "m = number\n",
    "while number!=0:\n",
    "    number = eval(input('enter:'))\n",
    "    if number > m:\n",
    "        m = number\n",
    "print(m)\n",
    "print(number)"
   ]
  },
  {
   "cell_type": "markdown",
   "metadata": {},
   "source": [
    "# 验证码\n",
    "- 随机产生四个字母的验证码，如果正确，输出验证码正确。如果错误，产生新的验证码，用户重新输入。\n",
    "- 验证码只能输入三次，如果三次都错，返回“别爬了，我们小网站没什么好爬的”\n",
    "- 密码登录，如果三次错误，账号被锁定\n"
   ]
  },
  {
   "cell_type": "code",
   "execution_count": 26,
   "metadata": {},
   "outputs": [
    {
     "name": "stdout",
     "output_type": "stream",
     "text": [
      "OfUa\n",
      ">>asda\n",
      "NO\n",
      "HmUt\n",
      ">>asd\n",
      "NO\n",
      "ZwYg\n",
      ">>ZwYg\n",
      "yes\n"
     ]
    }
   ],
   "source": [
    "import random\n",
    "b = ''\n",
    "n=0\n",
    "\n",
    "while n<3:\n",
    "    while len(b)<4:\n",
    "        a = random.randint(65,90)\n",
    "        c = random.randint(97,122)\n",
    "        b += chr(a)\n",
    "        b += chr(c)\n",
    "    print(b)\n",
    "    s = input('>>')\n",
    "    if s==b:\n",
    "        print('yes')\n",
    "        break\n",
    "    else :\n",
    "        print('NO')\n",
    "        n += 1\n",
    "        b=''\n",
    "\n",
    "        "
   ]
  },
  {
   "cell_type": "code",
   "execution_count": 23,
   "metadata": {},
   "outputs": [
    {
     "name": "stdout",
     "output_type": "stream",
     "text": [
      ">>asda\n",
      "password error\n",
      ">>asd\n",
      "password error\n",
      ">>asd\n",
      "password error\n",
      ">>asd\n",
      "账户被锁定\n"
     ]
    }
   ],
   "source": [
    "s = '123456'\n",
    "n = 0\n",
    "while 1:\n",
    "    us = input('>>')\n",
    "    if s==us:\n",
    "        print('OK')\n",
    "        break\n",
    "    elif n==3:\n",
    "        print('账户被锁定')\n",
    "        break\n",
    "    else:\n",
    "        print('password error')\n",
    "        n+=1"
   ]
  },
  {
   "cell_type": "code",
   "execution_count": 27,
   "metadata": {},
   "outputs": [
    {
     "data": {
      "image/png": "[encoded data removed]",
      "text/plain": [
       "<matplotlib.figure.Figure at 0x1c90590>"
      ]
     },
     "metadata": {},
     "output_type": "display_data"
    }
   ],
   "source": [
    "import matplotlib.pyplot as plt\n",
    "list_ = [1,2,3,4,5,6,7]\n",
    "list__ = [4,5,6,7,8,9,8]\n",
    "plt.plot(list_,list__)\n",
    "plt.show()"
   ]
  },
  {
   "cell_type": "code",
   "execution_count": 39,
   "metadata": {},
   "outputs": [
    {
     "data": {
      "image/png": "[encoded data removed]",
      "text/plain": [
       "<matplotlib.figure.Figure at 0xafd6690>"
      ]
     },
     "metadata": {},
     "output_type": "display_data"
    }
   ],
   "source": [
    "import matplotlib.pyplot as plt\n",
    "list1 = []\n",
    "list2 = []\n",
    "n = -10\n",
    "while n<=10:\n",
    "    list1.append(n)\n",
    "    list2.append(n**2)\n",
    "    n += 0.1\n",
    "plt.plot(list1,list2)\n",
    "a = [1,2,3,4]\n",
    "b = [10,20,30,40]\n",
    "plt.plot(a,b)\n",
    "plt.show()"
   ]
  },
  {
   "cell_type": "markdown",
   "metadata": {},
   "source": [
    "## 尝试死循环"
   ]
  },
  {
   "cell_type": "markdown",
   "metadata": {},
   "source": [
    "## 实例研究：猜数字\n",
    "- 你将要编写一个能够随机生成一个0到10之间的且包括两者的数字程序，这个程序\n",
    "- 提示用户连续地输入数字直到正确，且提示用户输入的数字是过高还是过低"
   ]
  },
  {
   "cell_type": "code",
   "execution_count": 43,
   "metadata": {},
   "outputs": [
    {
     "name": "stdout",
     "output_type": "stream",
     "text": [
      ">>5\n",
      "高了\n",
      ">>2\n",
      "低了\n",
      ">>4\n",
      "高了\n",
      ">>3\n",
      "WIN\n"
     ]
    }
   ],
   "source": [
    "import random\n",
    "a = random.randint(0,10)\n",
    "b = eval(input(\">>\"))\n",
    "while 1:\n",
    "    if a>b:\n",
    "        print(\"低了\")\n",
    "        b = eval(input(\">>\"))\n",
    "    elif a<b:\n",
    "        print(\"高了\")\n",
    "        b = eval(input('>>'))\n",
    "    else:\n",
    "        print('WIN')\n",
    "        break\n",
    "\n",
    "    "
   ]
  },
  {
   "cell_type": "markdown",
   "metadata": {},
   "source": [
    "## 使用哨兵值来控制循环\n",
    "- 哨兵值来表明输入的结束\n",
    "- ![](../Photo/54.png)"
   ]
  },
  {
   "cell_type": "markdown",
   "metadata": {},
   "source": [
    "## 警告\n",
    "![](../Photo/55.png)"
   ]
  },
  {
   "cell_type": "markdown",
   "metadata": {},
   "source": [
    "## for 循环\n",
    "- Python的for 循环通过一个序列中的每个值来进行迭代\n",
    "- range(a,b,k)， a，b，k 必须为整数\n",
    "- a: start\n",
    "- b: end\n",
    "- k: step\n",
    "- 注意for 是循环一切可迭代对象，而不是只能使用range"
   ]
  },
  {
   "cell_type": "markdown",
   "metadata": {},
   "source": [
    "# 在Python里面一切皆对象"
   ]
  },
  {
   "cell_type": "markdown",
   "metadata": {},
   "source": [
    "## EP:\n",
    "- ![](../Photo/145.png)"
   ]
  },
  {
   "cell_type": "code",
   "execution_count": 44,
   "metadata": {},
   "outputs": [
    {
     "name": "stdout",
     "output_type": "stream",
     "text": [
      "500500\n"
     ]
    }
   ],
   "source": [
    "s = 0\n",
    "i = 0\n",
    "while i<1001:\n",
    "    s = s+i\n",
    "    i+=1\n",
    "print(s)"
   ]
  },
  {
   "cell_type": "code",
   "execution_count": 46,
   "metadata": {},
   "outputs": [
    {
     "name": "stdout",
     "output_type": "stream",
     "text": [
      "49995000\n"
     ]
    }
   ],
   "source": [
    "s = 0\n",
    "for i in range(1,10000):\n",
    "    s = s+i\n",
    "print(s)"
   ]
  },
  {
   "cell_type": "markdown",
   "metadata": {},
   "source": [
    "## 嵌套循环\n",
    "- 一个循环可以嵌套另一个循环\n",
    "- 每次循环外层时，内层循环都会被刷新重新完成循环\n",
    "- 也就是说，大循环执行一次，小循环会全部执行一次\n",
    "- 注意：\n",
    "> - 多层循环非常耗时\n",
    "  - 最多使用3层循环"
   ]
  },
  {
   "cell_type": "markdown",
   "metadata": {},
   "source": [
    "## EP：\n",
    "- 使用多层循环完成9X9乘法表\n",
    "- 显示50以内所有的素数"
   ]
  },
  {
   "cell_type": "code",
   "execution_count": 57,
   "metadata": {},
   "outputs": [
    {
     "name": "stdout",
     "output_type": "stream",
     "text": [
      "2\n",
      "3\n",
      "5\n",
      "7\n",
      "11\n",
      "13\n",
      "17\n",
      "19\n",
      "23\n",
      "29\n",
      "31\n",
      "37\n",
      "41\n",
      "43\n",
      "47\n"
     ]
    }
   ],
   "source": [
    "for i in range(2,50):\n",
    "    for j in range(2,i+1):\n",
    "        if i%j==0:\n",
    "            break\n",
    "    if i==j:\n",
    "        print(i)\n",
    "        "
   ]
  },
  {
   "cell_type": "code",
   "execution_count": 54,
   "metadata": {},
   "outputs": [
    {
     "name": "stdout",
     "output_type": "stream",
     "text": [
      "1 * 1 = 1 \n",
      "\n",
      "2 * 1 = 2 2 * 2 = 4 \n",
      "\n",
      "3 * 1 = 3 3 * 2 = 6 3 * 3 = 9 \n",
      "\n",
      "4 * 1 = 4 4 * 2 = 8 4 * 3 = 12 4 * 4 = 16 \n",
      "\n",
      "5 * 1 = 5 5 * 2 = 10 5 * 3 = 15 5 * 4 = 20 5 * 5 = 25 \n",
      "\n",
      "6 * 1 = 6 6 * 2 = 12 6 * 3 = 18 6 * 4 = 24 6 * 5 = 30 6 * 6 = 36 \n",
      "\n",
      "7 * 1 = 7 7 * 2 = 14 7 * 3 = 21 7 * 4 = 28 7 * 5 = 35 7 * 6 = 42 7 * 7 = 49 \n",
      "\n",
      "8 * 1 = 8 8 * 2 = 16 8 * 3 = 24 8 * 4 = 32 8 * 5 = 40 8 * 6 = 48 8 * 7 = 56 8 * 8 = 64 \n",
      "\n",
      "9 * 1 = 9 9 * 2 = 18 9 * 3 = 27 9 * 4 = 36 9 * 5 = 45 9 * 6 = 54 9 * 7 = 63 9 * 8 = 72 9 * 9 = 81 \n",
      "\n"
     ]
    }
   ],
   "source": [
    "for i in range(1,10):\n",
    "    for j in range(1,i+1):\n",
    "        print(i,\"*\",j,\"=\",i*j,end=\" \")\n",
    "    print(\"\\n\")"
   ]
  },
  {
   "cell_type": "markdown",
   "metadata": {},
   "source": [
    "## 关键字 break 和 continue\n",
    "- break 跳出循环，终止循环\n",
    "- continue 跳出此次循环，继续执行"
   ]
  },
  {
   "cell_type": "markdown",
   "metadata": {},
   "source": [
    "## 注意\n",
    "![](../Photo/56.png)\n",
    "![](../Photo/57.png)"
   ]
  },
  {
   "cell_type": "markdown",
   "metadata": {},
   "source": [
    "# Homework\n",
    "- 1 \n",
    "![](../Photo/58.png)"
   ]
  },
  {
   "cell_type": "code",
   "execution_count": 59,
   "metadata": {},
   "outputs": [
    {
     "name": "stdout",
     "output_type": "stream",
     "text": [
      ">>1\n",
      ">>2\n",
      ">>-1\n",
      ">>3\n",
      ">>0\n",
      "正数： 3\n",
      "负数： 1\n",
      "和： 5\n",
      "平均值： 1.25\n"
     ]
    }
   ],
   "source": [
    "list_ = []\n",
    "a = eval(input('>>'))\n",
    "zheng = 0\n",
    "fu = 0\n",
    "while a!=0:\n",
    "    if a>0:\n",
    "        zheng += 1\n",
    "    elif a<0:\n",
    "        fu += 1\n",
    "    list_.append(a)\n",
    "    a = eval(input('>>'))\n",
    "s = sum(list_)\n",
    "p = s/len(list_)\n",
    "print(\"正数：\",zheng)\n",
    "print(\"负数：\",fu)\n",
    "print(\"和：\",s)\n",
    "print(\"平均值：\",p)\n",
    "\n",
    "\n"
   ]
  },
  {
   "cell_type": "markdown",
   "metadata": {},
   "source": [
    "- 2\n",
    "![](../Photo/59.png)"
   ]
  },
  {
   "cell_type": "code",
   "execution_count": 60,
   "metadata": {},
   "outputs": [
    {
     "name": "stdout",
     "output_type": "stream",
     "text": [
      "16288.946267774414\n"
     ]
    }
   ],
   "source": [
    "s = 10000\n",
    "for i in range(10):\n",
    "    s = s+s*0.05\n",
    "print(s)"
   ]
  },
  {
   "cell_type": "markdown",
   "metadata": {},
   "source": [
    "- 3\n",
    "![](../Photo/58.png)"
   ]
  },
  {
   "cell_type": "markdown",
   "metadata": {},
   "source": [
    "- 4\n",
    "![](../Photo/60.png)"
   ]
  },
  {
   "cell_type": "code",
   "execution_count": 66,
   "metadata": {},
   "outputs": [
    {
     "name": "stdout",
     "output_type": "stream",
     "text": [
      "120 150 180 210 240 270 300 330 360 390 \n",
      "420 450 480 510 540 570 600 630 660 690 \n",
      "720 750 780 810 840 870 900 930 960 990 \n"
     ]
    }
   ],
   "source": [
    "n = 0\n",
    "for i in range(100,1000):\n",
    "    if (i%5==0 and i%6==0):\n",
    "        print(i,end=\" \")\n",
    "        n += 1\n",
    "    if n==10:\n",
    "        print()\n",
    "        n=0\n"
   ]
  },
  {
   "cell_type": "markdown",
   "metadata": {},
   "source": [
    "- 5\n",
    "![](../Photo/61.png)"
   ]
  },
  {
   "cell_type": "code",
   "execution_count": 81,
   "metadata": {},
   "outputs": [
    {
     "name": "stdout",
     "output_type": "stream",
     "text": [
      "min: 110\n",
      "max: 22\n"
     ]
    }
   ],
   "source": [
    "n = 0\n",
    "while 1:\n",
    "    if n**2>12000:\n",
    "        print(\"min:\",n)\n",
    "        break\n",
    "    n+=1\n",
    "n=0\n",
    "while 1:\n",
    "    if n**3>12000:\n",
    "        print(\"max:\",n-1)\n",
    "        break\n",
    "    n+=1"
   ]
  },
  {
   "cell_type": "markdown",
   "metadata": {},
   "source": [
    "- 6\n",
    "![](../Photo/62.png)"
   ]
  },
  {
   "cell_type": "code",
   "execution_count": 98,
   "metadata": {},
   "outputs": [
    {
     "name": "stdout",
     "output_type": "stream",
     "text": [
      "Loan Amount:10000\n",
      "Number of Years:5\n",
      "Interest Rate\t\tMonthly Payment\t\tTotal Payment\n",
      "5% \t\t 230.23463541666692 \t\t 12762.815625000003\n",
      "5.125% \t\t 236.58048833262396 \t\t 12838.965859991487\n",
      "5.25% \t\t 242.9565955485838 \t\t 12915.479146583006\n",
      "5.375% \t\t 249.36306511546567 \t\t 12992.356781385588\n",
      "5.5% \t\t 255.8000053411456 \t\t 13069.600064093747\n",
      "5.625% \t\t 262.2675247907634 \t\t 13147.21029748916\n",
      "5.75% \t\t 268.76573228702847 \t\t 13225.188787444342\n",
      "5.875% \t\t 275.29473691052044 \t\t 13303.536842926245\n",
      "6.0% \t\t 281.8546480000003 \t\t 13382.255776000004\n",
      "6.125% \t\t 288.4455751527127 \t\t 13461.346901832552\n",
      "6.25% \t\t 295.06762822469074 \t\t 13540.811538696289\n",
      "6.375% \t\t 301.72091733106225 \t\t 13620.651007972747\n",
      "6.5% \t\t 308.4055528463538 \t\t 13700.866634156246\n",
      "6.625% \t\t 315.12164540479745 \t\t 13781.45974485757\n",
      "6.75% \t\t 321.8693059006343 \t\t 13862.431670807611\n",
      "6.875% \t\t 328.6486454884218 \t\t 13943.783745861061\n",
      "7.0% \t\t 335.4597755833336 \t\t 14025.517307000004\n",
      "7.125% \t\t 342.3028078614734 \t\t 14107.633694337681\n",
      "7.25% \t\t 349.1778542601725 \t\t 14190.13425112207\n",
      "7.375% \t\t 356.08502697829925 \t\t 14273.02032373959\n",
      "7.5% \t\t 363.02443847656224 \t\t 14356.293261718747\n",
      "7.625% \t\t 369.996201477816 \t\t 14439.954417733792\n",
      "7.75% \t\t 377.00042896736596 \t\t 14524.005147608392\n",
      "7.875% \t\t 384.0372341932759 \t\t 14608.44681031931\n",
      "8.0% \t\t 391.10673066666715 \t\t 14693.280768000006\n"
     ]
    }
   ],
   "source": [
    "Amount = eval(input('Loan Amount:'))\n",
    "Years = eval(input('Number of Years:'))\n",
    "print(\"Interest Rate\\t\\tMonthly Payment\\t\\tTotal Payment\")\n",
    "n = 5\n",
    "while n<8.1:\n",
    "    Total = Amount*(1+n/100)**Years\n",
    "    Month = (Total-Amount)/12\n",
    "    print(str(n)+\"%\",\"\\t\\t\",Month,\"\\t\\t\",Total)\n",
    "    n += 0.125"
   ]
  },
  {
   "cell_type": "markdown",
   "metadata": {},
   "source": [
    "- 7\n",
    "![](../Photo/63.png)"
   ]
  },
  {
   "cell_type": "code",
   "execution_count": 75,
   "metadata": {},
   "outputs": [
    {
     "name": "stdout",
     "output_type": "stream",
     "text": [
      "11.397003949278519\n",
      "11.397023948878513\n"
     ]
    }
   ],
   "source": [
    "n=50000\n",
    "sd=0\n",
    "sz=0\n",
    "while n>0:\n",
    "    sd = sd + 1/n\n",
    "    n -= 1\n",
    "print(sd)\n",
    "while n<50001:\n",
    "    n += 1\n",
    "    sz = sz + 1/n\n",
    "print(sz)\n"
   ]
  },
  {
   "cell_type": "markdown",
   "metadata": {},
   "source": [
    "- 8\n",
    "![](../Photo/64.png)"
   ]
  },
  {
   "cell_type": "code",
   "execution_count": 106,
   "metadata": {},
   "outputs": [
    {
     "name": "stdout",
     "output_type": "stream",
     "text": [
      "45.124450303050196\n"
     ]
    }
   ],
   "source": [
    "a = 1\n",
    "s = 0\n",
    "while a<98:\n",
    "    s = s+(a/(a+2))\n",
    "    a = a+2\n",
    "    \n",
    "print(s)"
   ]
  },
  {
   "cell_type": "markdown",
   "metadata": {},
   "source": [
    "- 9\n",
    "![](../Photo/65.png)"
   ]
  },
  {
   "cell_type": "code",
   "execution_count": 115,
   "metadata": {
    "scrolled": false
   },
   "outputs": [
    {
     "name": "stdout",
     "output_type": "stream",
     "text": [
      "3.141392653591791\n",
      "3.1414926535900345\n",
      "3.1415259869231935\n",
      "3.1415426535898248\n",
      "3.141552653589803\n",
      "3.141559320256462\n",
      "3.141564082161233\n",
      "3.1415676535897985\n",
      "3.141570431367571\n",
      "3.1415726535897814\n"
     ]
    }
   ],
   "source": [
    "n = 1\n",
    "s = 0\n",
    "for j in range(10000,100001,10000):\n",
    "    for i in range(1,j+1,2):\n",
    "        if n%2:\n",
    "            s = s + 1/i\n",
    "        else:\n",
    "            s = s - 1/i\n",
    "        n+=1\n",
    "    print(4*s)\n",
    "    s = 0"
   ]
  },
  {
   "cell_type": "markdown",
   "metadata": {},
   "source": [
    "- 10 \n",
    "![](../Photo/66.png)"
   ]
  },
  {
   "cell_type": "code",
   "execution_count": 94,
   "metadata": {},
   "outputs": [
    {
     "name": "stdout",
     "output_type": "stream",
     "text": [
      "6\n",
      "28\n",
      "496\n",
      "8128\n"
     ]
    }
   ],
   "source": [
    "l = []\n",
    "for n in range (1,10001):\n",
    "    for a in range (1,n):\n",
    "        if n%a ==0:\n",
    "            l.append(a)\n",
    "    if sum(l)==n:\n",
    "        print (n)\n",
    "    l = []"
   ]
  },
  {
   "cell_type": "markdown",
   "metadata": {},
   "source": [
    "- 11\n",
    "![](../Photo/67.png)"
   ]
  },
  {
   "cell_type": "code",
   "execution_count": 103,
   "metadata": {
    "scrolled": false
   },
   "outputs": [
    {
     "name": "stdout",
     "output_type": "stream",
     "text": [
      "21\n",
      "[(2, 1), (3, 1), (4, 1), (5, 1), (6, 1), (7, 1), (3, 2), (4, 2), (5, 2), (6, 2), (7, 2), (4, 3), (5, 3), (6, 3), (7, 3), (5, 4), (6, 4), (7, 4), (6, 5), (7, 5), (7, 6)]\n"
     ]
    }
   ],
   "source": [
    "import random\n",
    "a = [1,2,3,4,5,6,7]\n",
    "b = []\n",
    "for i in range(1,8):\n",
    "    for j in range(i,8):\n",
    "        if i==j:\n",
    "            continue\n",
    "        b.append((j,i))\n",
    "print(len(b))\n",
    "print(b)\n"
   ]
  },
  {
   "cell_type": "markdown",
   "metadata": {},
   "source": [
    "- 12\n",
    "![](../Photo/68.png)"
   ]
  },
  {
   "cell_type": "code",
   "execution_count": 121,
   "metadata": {},
   "outputs": [
    {
     "name": "stdout",
     "output_type": "stream",
     "text": [
      ">>1\n",
      ">>2\n",
      ">>3\n",
      ">>5.5\n",
      ">>5.6\n",
      ">>6\n",
      ">>7\n",
      ">>8\n",
      ">>9\n",
      ">>10\n",
      "mean is 5.71\n",
      "deviation is 7.9569\n"
     ]
    }
   ],
   "source": [
    "b = []\n",
    "while len(b)!=10:\n",
    "    a = eval(input('>>'))\n",
    "    b.append(a)\n",
    "mean = sum(b)/10\n",
    "s = 0\n",
    "for i in b:\n",
    "    s = s + (i-mean)**2\n",
    "devi = s/10\n",
    "print('mean is',mean)\n",
    "print('deviation is',round(devi,4))"
   ]
  }
 ],
 "metadata": {
  "kernelspec": {
   "display_name": "Python 3",
   "language": "python",
   "name": "python3"
  },
  "language_info": {
   "codemirror_mode": {
    "name": "ipython",
    "version": 3
   },
   "file_extension": ".py",
   "mimetype": "text/x-python",
   "name": "python",
   "nbconvert_exporter": "python",
   "pygments_lexer": "ipython3",
   "version": "3.6.1"
  }
 },
 "nbformat": 4,
 "nbformat_minor": 2
}
