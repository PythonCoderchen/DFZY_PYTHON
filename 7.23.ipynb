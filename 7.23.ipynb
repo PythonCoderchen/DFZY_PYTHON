{
 "cells": [
  {
   "cell_type": "markdown",
   "metadata": {},
   "source": [
    "# 对象和类\n",
    "- 一个学生，一张桌子，一个圆都是对象\n",
    "- 对象是类的一个实例，你可以创建多个对象，创建类的一个实例过程被称为实例化，\n",
    "- 在Python中对象就是实例，而实例就是对象"
   ]
  },
  {
   "cell_type": "markdown",
   "metadata": {},
   "source": [
    "## 定义类\n",
    "class ClassName:\n",
    "\n",
    "    do something\n",
    "    \n",
    "- class 类的表示与def 一样\n",
    "- 类名最好使用驼峰式\n",
    "- 在Python2中类是需要继承基类object的，在Python中默认继承，可写可不写\n",
    "- 可以将普通代码理解为皮肤，而函数可以理解为内衣，那么类可以理解为外套"
   ]
  },
  {
   "cell_type": "markdown",
   "metadata": {},
   "source": [
    "## 定义一个不含初始化__init__的简单类\n",
    "class ClassName:\n",
    "\n",
    "    joker = “Home”\n",
    "    \n",
    "    def func():\n",
    "        print('Worker')\n",
    "    \n",
    "- 尽量少使用"
   ]
  },
  {
   "cell_type": "markdown",
   "metadata": {},
   "source": [
    "## 定义一个标准类\n",
    "- __init__ 代表初始化，可以初始化任何动作\n",
    "- 此时类调用要使用()，其中（）可以理解为开始初始化\n",
    "- 初始化内的元素，类中其他的函数可以共享\n",
    "![](../Photo/85.png)"
   ]
  },
  {
   "cell_type": "code",
   "execution_count": 4,
   "metadata": {},
   "outputs": [
    {
     "name": "stdout",
     "output_type": "stream",
     "text": [
      "奇数\n"
     ]
    }
   ],
   "source": [
    "class panduan:\n",
    "    def __init__(self,num=1):\n",
    "        self.num = num\n",
    "    def jishu(self):\n",
    "        if self.num%2!=0:\n",
    "            print('奇数')\n",
    "    def oushu(self):\n",
    "        if self.num%2==0:\n",
    "            print('偶数')\n",
    "panduan().jishu()"
   ]
  },
  {
   "cell_type": "code",
   "execution_count": 14,
   "metadata": {},
   "outputs": [
    {
     "data": {
      "text/plain": [
       "'不是素数'"
      ]
     },
     "execution_count": 14,
     "metadata": {},
     "output_type": "execute_result"
    }
   ],
   "source": [
    "class shu():\n",
    "    def __init__(self,num=4):\n",
    "        self.num = num\n",
    "    def jiou(self):\n",
    "        if self.num%2==0:\n",
    "            return \"偶数\"\n",
    "        else:\n",
    "            return \"奇数\"\n",
    "    def sushu(self):\n",
    "        for j in range(2,self.num+1):\n",
    "            if self.num%j==0:\n",
    "                break\n",
    "        if self.num==j:\n",
    "            return \"是素数\"\n",
    "        else:\n",
    "            return \"不是素数\"\n",
    "        \n",
    "    def jiu(self):\n",
    "        for i in range(1,10):\n",
    "            for j in range(1,i+1):\n",
    "                print(i,\"*\",j,\"=\",i*j,end=\" \")\n",
    "            print(\"\\n\")\n",
    "shu().sushu()"
   ]
  },
  {
   "cell_type": "code",
   "execution_count": 22,
   "metadata": {},
   "outputs": [
    {
     "data": {
      "text/plain": [
       "10000"
      ]
     },
     "execution_count": 22,
     "metadata": {},
     "output_type": "execute_result"
    }
   ],
   "source": [
    "class suan():\n",
    "    def __init__(self,num=0):\n",
    "        self.num = num\n",
    "    def jia(self):\n",
    "        self.num += 1\n",
    "    def cheng(self):\n",
    "        return self.num*100\n",
    "    \n",
    "A = suan()\n",
    "for i in range(100):\n",
    "    A.jia()\n",
    "A.cheng()\n",
    "    "
   ]
  },
  {
   "cell_type": "markdown",
   "metadata": {},
   "source": [
    "## 何为self？\n",
    "- self 是指向对象本身的参数\n",
    "- self 只是一个命名规则，其实可以改变的，但是我们约定俗成的是self，也便于理解\n",
    "- 使用了self就可以访问类中定义的成员\n",
    "<img src=\"../Photo/86.png\"></img>"
   ]
  },
  {
   "cell_type": "markdown",
   "metadata": {},
   "source": [
    "## 使用类 Cirlcle"
   ]
  },
  {
   "cell_type": "markdown",
   "metadata": {},
   "source": [
    "## 类的传参\n",
    "- class ClassName:\n",
    "    \n",
    "        def __init__(self, para1,para2...)：\n",
    "            \n",
    "            self.para1 = para1\n",
    "            \n",
    "            self.para2 = para2"
   ]
  },
  {
   "cell_type": "markdown",
   "metadata": {},
   "source": [
    "## EP:\n",
    "- A：定义一个类，类中含有两个功能：\n",
    "    - 1、计算随机数的最大值\n",
    "    - 2、计算随机数的最小值\n",
    "- B：定义一个类，（类中函数的嵌套使用）\n",
    "    - 1、第一个函数的功能为：输入一个数字\n",
    "    - 2、第二个函数的功能为：使用第一个函数中得到的数字进行平方处理\n",
    "    - 3、第三个函数的功能为：得到平方处理后的数字 - 原来输入的数字，并打印结果"
   ]
  },
  {
   "cell_type": "markdown",
   "metadata": {},
   "source": [
    "## 类的继承\n",
    "- 类的单继承\n",
    "- 类的多继承\n",
    "- 继承标识\n",
    ">  class SonClass(FatherClass):\n",
    "            \n",
    "            def __init__(self):\n",
    "            \n",
    "                FatherClass.__init__(self)"
   ]
  },
  {
   "cell_type": "code",
   "execution_count": 29,
   "metadata": {},
   "outputs": [
    {
     "name": "stdout",
     "output_type": "stream",
     "text": [
      "偶数\n"
     ]
    }
   ],
   "source": [
    "class father:\n",
    "    def __init__(self):\n",
    "        self.num = 10\n",
    "class son(father):\n",
    "    def __init__(self):\n",
    "        father.__init__(self)\n",
    "    def panduan(self):\n",
    "        if self.num%2 == 0:\n",
    "            print('偶数')\n",
    "        else:\n",
    "            print('奇数')\n",
    "son().panduan()"
   ]
  },
  {
   "cell_type": "markdown",
   "metadata": {},
   "source": [
    "## 私有数据域(私有变量，或者私有函数)\n",
    "- 在Python中 变量名或者函数名使用双下划线代表私有  \\__Joker,   def \\__Joker():\n",
    "- 私有数据域不可继承\n",
    "- 私有数据域强制继承   \\__dir__()"
   ]
  },
  {
   "cell_type": "markdown",
   "metadata": {},
   "source": [
    "![](../Photo/87.png)"
   ]
  },
  {
   "cell_type": "markdown",
   "metadata": {},
   "source": [
    "## EP:\n",
    "![](../Photo/88.png)\n",
    "![](../Photo/89.png)\n",
    "![](../Photo/90.png)\n"
   ]
  },
  {
   "cell_type": "markdown",
   "metadata": {},
   "source": [
    "## 类的其他\n",
    "- 类的封装\n",
    "    - 实际上就是将一类功能放在一起，方便未来进行管理\n",
    "- 类的继承（上面已经讲过）\n",
    "- 类的多态\n",
    "    - 包括装饰器：将放在以后处理高级类中教\n",
    "    - 装饰器的好处：当许多类中的函数需要使用同一个功能的时候，那么使用装饰器就会方便许多\n",
    "    - 装饰器是有固定的写法\n",
    "        - 其包括普通装饰器与带参装饰器"
   ]
  },
  {
   "cell_type": "markdown",
   "metadata": {},
   "source": [
    "# Homewor\n",
    "## UML类图可以不用画\n",
    "## UML 实际上就是一个思维图\n",
    "- 1\n",
    "![](../Photo/91.png)"
   ]
  },
  {
   "cell_type": "code",
   "execution_count": 35,
   "metadata": {},
   "outputs": [
    {
     "name": "stdout",
     "output_type": "stream",
     "text": [
      "4 40\n",
      "160\n",
      "88\n",
      "3.5 35.7\n",
      "124.95000000000002\n",
      "78.4\n"
     ]
    }
   ],
   "source": [
    "class Rectangle:\n",
    "    def __init__(self,width,height):\n",
    "        self.width = width\n",
    "        self.height = height\n",
    "        print(self.width,self.height)\n",
    "    def getArea(self):\n",
    "        return self.width*self.height\n",
    "    def getPerimeter(self):\n",
    "        return 2*self.width+2*self.height\n",
    "A = Rectangle(4,40)\n",
    "print(A.getArea())\n",
    "print(A.getPerimeter())\n",
    "B = Rectangle(3.5,35.7)\n",
    "print(B.getArea())\n",
    "print(B.getPerimeter())"
   ]
  },
  {
   "cell_type": "markdown",
   "metadata": {},
   "source": [
    "- 2\n",
    "![](../Photo/92.png)"
   ]
  },
  {
   "cell_type": "code",
   "execution_count": 41,
   "metadata": {
    "collapsed": true
   },
   "outputs": [],
   "source": [
    "class Account:\n",
    "    def __init__(self,id=0,balance=100,annualInterestRate=0):\n",
    "        self.__id = id\n",
    "        self.__balance=balance\n",
    "        self.__annualInterestRate=annualInterestRate\n",
    "    def getid(self):\n",
    "        return self.__id\n",
    "    def setid(self,id2):\n",
    "        self.__id = id2\n",
    "    def getbalance(self):\n",
    "        return self.__balance\n",
    "    def setbalance(self,balance):\n",
    "        self.__balance = balance\n",
    "    def getannualInterestRate(self):\n",
    "        return self.__annualInterestRate\n",
    "    def getMonthlyInterestRate(self):\n",
    "        return self.__annualInterestRate/1200\n",
    "    def getMonthlyInterest(self):\n",
    "        return self.__balance*self.getMonthlyInterestRate()\n",
    "    def withdraw(self,balance):\n",
    "        self.__balance -= balance\n",
    "    def deposit(self,balance):\n",
    "        self.__balance += balance\n",
    "gangdan = Account(1122,20000,4.5)\n",
    "    \n",
    "    "
   ]
  },
  {
   "cell_type": "code",
   "execution_count": 42,
   "metadata": {
    "collapsed": true
   },
   "outputs": [],
   "source": [
    "gangdan.withdraw(2500)"
   ]
  },
  {
   "cell_type": "code",
   "execution_count": 43,
   "metadata": {
    "collapsed": true
   },
   "outputs": [],
   "source": [
    "gangdan.deposit(3000)"
   ]
  },
  {
   "cell_type": "code",
   "execution_count": 44,
   "metadata": {},
   "outputs": [
    {
     "name": "stdout",
     "output_type": "stream",
     "text": [
      "1122\n",
      "20500\n",
      "0.00375\n",
      "76.875\n"
     ]
    }
   ],
   "source": [
    "print(gangdan.getid())\n",
    "print(gangdan.getbalance())\n",
    "print(gangdan.getMonthlyInterestRate())\n",
    "print(gangdan.getMonthlyInterest())"
   ]
  },
  {
   "cell_type": "markdown",
   "metadata": {},
   "source": [
    "- 3\n",
    "![](../Photo/93.png)"
   ]
  },
  {
   "cell_type": "code",
   "execution_count": 9,
   "metadata": {},
   "outputs": [],
   "source": [
    "class  Fan:\n",
    "    def __init__(self,speed=1,on=False,radius=5,color='blue'):\n",
    "        if speed == 1:\n",
    "            self.__speed = 'SLOW'\n",
    "        elif speed == 2:\n",
    "            self.__speed = 'MEDIUM'\n",
    "        else:\n",
    "            self.__speed = 'FAST'\n",
    "        self.__on = on\n",
    "        self.__radius = radius\n",
    "        self.__color = color\n",
    "    def getspeed(self):\n",
    "        return self.__speed\n",
    "    def geton(self):\n",
    "        return self.__on\n",
    "    def getradius(self):\n",
    "        return self.__radius\n",
    "    def getcolor(self):\n",
    "        return self.__color\n",
    "    def setspeed(self,speed):\n",
    "        if speed == 1:\n",
    "            self.__speed = 'SLOW'\n",
    "        elif speed == 2:\n",
    "            self.__speed = 'MEDIUM'\n",
    "        else:\n",
    "            self.__speed = 'FAST'\n",
    "    def seton(self,on):\n",
    "        self.__on = on\n",
    "    def setradius(self,radius):\n",
    "        self.__radius = radius\n",
    "    def setcolor(self,color):\n",
    "        self.__color = color"
   ]
  },
  {
   "cell_type": "code",
   "execution_count": 10,
   "metadata": {},
   "outputs": [
    {
     "name": "stdout",
     "output_type": "stream",
     "text": [
      "FAST 10 yellow True\n"
     ]
    }
   ],
   "source": [
    "fan1 = Fan()\n",
    "fan1.setspeed(3)\n",
    "fan1.setradius(10)\n",
    "fan1.setcolor('yellow')\n",
    "fan1.seton(True)\n",
    "print(fan1.getspeed(),fan1.getradius(),fan1.getcolor(),fan1.geton())"
   ]
  },
  {
   "cell_type": "markdown",
   "metadata": {},
   "source": [
    "- 4\n",
    "![](../Photo/94.png)\n",
    "![](../Photo/95.png)"
   ]
  },
  {
   "cell_type": "code",
   "execution_count": 47,
   "metadata": {},
   "outputs": [],
   "source": [
    "import math\n",
    "class RegularPolygon:\n",
    "    def __init__(self,n=3,side=1,x=0,y=0):\n",
    "        self.__n = n\n",
    "        self.__side = side\n",
    "        self.__x = x\n",
    "        self.__y = y\n",
    "    def getx(self):\n",
    "        return self.__x\n",
    "    def setx(self,x):\n",
    "        self.__x = x\n",
    "    def gety(self):\n",
    "        return self.__y\n",
    "    def sety(self,y):\n",
    "        self.__y = y\n",
    "    def getn(self):\n",
    "        return self.__n\n",
    "    def setn(self,n):\n",
    "        self.__n = n\n",
    "    def getside(self):\n",
    "        return self.__side\n",
    "    def setside(self,side):\n",
    "        self.__side = side\n",
    "    def getPerimeter(self):\n",
    "        return self.__n*self.__side\n",
    "    def getArea(self):\n",
    "        Area = self.__n * (self.__side ** 2) / (4 * math.tan(math.pi/self.__n))\n",
    "        return Area"
   ]
  },
  {
   "cell_type": "code",
   "execution_count": 48,
   "metadata": {},
   "outputs": [],
   "source": [
    "RegularPolygon1 = RegularPolygon()\n",
    "RegularPolygon2 = RegularPolygon(6,4)\n",
    "RegularPolygon3 = RegularPolygon(10,4,5.6,7.8)"
   ]
  },
  {
   "cell_type": "code",
   "execution_count": 49,
   "metadata": {},
   "outputs": [
    {
     "name": "stdout",
     "output_type": "stream",
     "text": [
      "3\n",
      "0.43301270189221946\n",
      "24\n",
      "41.569219381653056\n",
      "40\n",
      "123.10734148701015\n"
     ]
    }
   ],
   "source": [
    "print(RegularPolygon1.getPerimeter())\n",
    "print(RegularPolygon1.getArea())\n",
    "print(RegularPolygon2.getPerimeter())\n",
    "print(RegularPolygon2.getArea())\n",
    "print(RegularPolygon3.getPerimeter())\n",
    "print(RegularPolygon3.getArea())"
   ]
  },
  {
   "cell_type": "markdown",
   "metadata": {},
   "source": [
    "- 5\n",
    "![](../Photo/96.png)"
   ]
  },
  {
   "cell_type": "code",
   "execution_count": 56,
   "metadata": {
    "collapsed": true
   },
   "outputs": [],
   "source": [
    "class LinearEquation:\n",
    "    def __init__(self,a,b,c,d,e,f):\n",
    "        self.__a = a\n",
    "        self.__b = b\n",
    "        self.__c = c\n",
    "        self.__d = d\n",
    "        self.__e = e\n",
    "        self.__f = f\n",
    "    def geta(self):\n",
    "        return self.__a\n",
    "    def getb(self):\n",
    "        return self.__b\n",
    "    def getc(self):\n",
    "        return self.__c\n",
    "    def getd(self):\n",
    "        return self.__d\n",
    "    def gete(self):\n",
    "        return self.__e\n",
    "    def getf(self):\n",
    "        return self.__f\n",
    "    def isSolvable(self):\n",
    "        if (self.geta()*self.getd()) - (self.getb()*self.getc())!=0:\n",
    "            return True\n",
    "    def getX(self):\n",
    "        if self.isSolvable():\n",
    "            x = (self.__e*self.__d-self.__b*self.__f)/(self.__a*self.__d-self.__b*self.__c)\n",
    "            return x\n",
    "        else:\n",
    "            return '次方程无解'\n",
    "    def getY(self):\n",
    "        if self.isSolvable():\n",
    "            y = (self.__a*self.__f-self.__e*self.__c)/(self.__a*self.__d-self.__b*self.__c)\n",
    "            return y\n",
    "        else:\n",
    "            return '次方程无解'\n",
    "        "
   ]
  },
  {
   "cell_type": "code",
   "execution_count": 59,
   "metadata": {},
   "outputs": [
    {
     "name": "stdout",
     "output_type": "stream",
     "text": [
      "-2.0\n",
      "3.0\n"
     ]
    }
   ],
   "source": [
    "LinearEquation1 = LinearEquation(1,2,2,3,4,5)\n",
    "print(LinearEquation1.getX())\n",
    "print(LinearEquation1.getY())"
   ]
  },
  {
   "cell_type": "markdown",
   "metadata": {},
   "source": [
    "- 6\n",
    "![](../Photo/97.png)"
   ]
  },
  {
   "cell_type": "markdown",
   "metadata": {},
   "source": [
    "- 7\n",
    "![](../Photo/98.png)"
   ]
  },
  {
   "cell_type": "markdown",
   "metadata": {},
   "source": [
    "- 8 进阶\n",
    "- 定义一个子类，一个父类\n",
    "    - 父类产生随机数\n",
    "    - 子类一直判定该随机数是奇数还是偶数\n",
    "        - 该例子实际上就是一个粗浅的分布式"
   ]
  },
  {
   "cell_type": "code",
   "execution_count": 64,
   "metadata": {
    "collapsed": true
   },
   "outputs": [],
   "source": [
    "import random\n",
    "class Fathernum:\n",
    "    def __init__(self):\n",
    "        self.num = None\n",
    "    def new_num(self):\n",
    "        self.num = random.randint(1,9)\n",
    "        return self.num\n",
    "class Sonnum(Fathernum):\n",
    "    def __init__(self):\n",
    "        Fathernum.__init__(self)\n",
    "    def panduan(self):\n",
    "        for i in range(10):\n",
    "            num2 = self.new_num()\n",
    "            if num2%2 == 0:\n",
    "                print('偶数',self.num)\n",
    "            else:\n",
    "                print('奇数',self.num)\n"
   ]
  },
  {
   "cell_type": "code",
   "execution_count": 66,
   "metadata": {},
   "outputs": [
    {
     "name": "stdout",
     "output_type": "stream",
     "text": [
      "奇数 5\n",
      "偶数 8\n",
      "偶数 6\n",
      "奇数 3\n",
      "奇数 1\n",
      "偶数 2\n",
      "偶数 2\n",
      "偶数 2\n",
      "奇数 9\n",
      "奇数 3\n"
     ]
    }
   ],
   "source": [
    "Sonnum().panduan()"
   ]
  }
 ],
 "metadata": {
  "kernelspec": {
   "display_name": "Python 3",
   "language": "python",
   "name": "python3"
  },
  "language_info": {
   "codemirror_mode": {
    "name": "ipython",
    "version": 3
   },
   "file_extension": ".py",
   "mimetype": "text/x-python",
   "name": "python",
   "nbconvert_exporter": "python",
   "pygments_lexer": "ipython3",
   "version": "3.6.1"
  }
 },
 "nbformat": 4,
 "nbformat_minor": 2
}
